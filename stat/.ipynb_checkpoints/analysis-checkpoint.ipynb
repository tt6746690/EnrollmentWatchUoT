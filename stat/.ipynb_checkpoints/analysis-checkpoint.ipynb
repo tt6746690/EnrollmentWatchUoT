{
 "cells": [
  {
   "cell_type": "code",
   "execution_count": 1,
   "metadata": {
    "collapsed": false,
    "scrolled": true
   },
   "outputs": [],
   "source": [
    "import pandas as pd\n",
    "import matplotlib.pyplot as plt\n",
    "import time\n",
    "import sys\n",
    "\n",
    "from settings import DATA_201701, CUTOFF_DATE, INFO_FLAG, FIG_SIZE, BATCH_LINE_GRAPH\n",
    "\n"
   ]
  },
  {
   "cell_type": "code",
   "execution_count": 4,
   "metadata": {
    "collapsed": false
   },
   "outputs": [],
   "source": [
    "# For one graph configure here\n",
    "# COURSE_CODES = [\"CSC2\", \"MAT237\", \"STA257\", \"STA261\"]\n",
    "# NOT_COURSE_CODES = [\"HAS_TO_BE_HERE_STRING\"]\n",
    "# SAVED_IMAGE = \"./fig.png\"\n",
    "# FIG_SIZE = (12, 12)\n",
    "\n",
    "\n",
    "# Batch processing \n",
    "for job in BATCH_LINE_GRAPH:\n",
    "    SAVED_IMAGE = job.get(\"image\")\n",
    "    COURSE_CODES = job.get(\"courses\")\n",
    "    NOT_COURSE_CODES = job.get(\"not_courses\")\n",
    "    \n",
    "    # run everything below\n",
    "    from IPython.display import Javascript\n",
    "    Javascript('IPython.notebook.execute_cells_below()')\n"
   ]
  },
  {
   "cell_type": "code",
   "execution_count": 45,
   "metadata": {
    "collapsed": false
   },
   "outputs": [
    {
     "name": "stderr",
     "output_type": "stream",
     "text": [
      "/usr/local/lib/python3.6/site-packages/ipykernel_launcher.py:13: UserWarning: This pattern has match groups. To actually get the groups, use str.extract.\n",
      "  del sys.path[0]\n",
      "/usr/local/lib/python3.6/site-packages/ipykernel_launcher.py:14: UserWarning: This pattern has match groups. To actually get the groups, use str.extract.\n",
      "  \n"
     ]
    }
   ],
   "source": [
    "df = pd.read_table(DATA_201701, sep='\\t')\n",
    "\n",
    "# preliminary filtering\n",
    "\n",
    "COURSE_PATTERN = r\"^({})\".format(\"|\".join(COURSE_CODES))\n",
    "NOT_COURSE_PATTERN = r\"^({})\".format(\"|\".join(NOT_COURSE_CODES))\n",
    "\n",
    "df = df.loc[\n",
    "    (df[\"waitlist\"] == \"Y\") &\n",
    "    (df[\"enrollmentCapacity\"]) < 9999 &\n",
    "    (df[\"section\"] == \"S\") & \n",
    "    (df[\"teachingMethod\"] == \"LEC\") & \n",
    "    (df[\"courseCode\"].str.contains(COURSE_PATTERN)) & \n",
    "    (~df[\"courseCode\"].str.contains(NOT_COURSE_PATTERN))\n",
    "   ]"
   ]
  },
  {
   "cell_type": "code",
   "execution_count": 46,
   "metadata": {
    "collapsed": false
   },
   "outputs": [],
   "source": [
    "# Filter by date \n",
    "CUTOFF_DATE_EPOCH = int(time.mktime(time.strptime(CUTOFF_DATE, '%Y-%m-%d')))\n",
    "\n",
    "start_epoch = df[\"epochTime\"].min()\n",
    "SECONDS_PER_DAY = 86400\n",
    "\n",
    "df = df.loc[\n",
    "    (df[\"epochTime\"] <= CUTOFF_DATE_EPOCH)\n",
    "]    \n",
    "\n",
    "# Adding relevant columns\n",
    "df[\"id\"] = df.apply(lambda row: row.courseCode + \"_\" + str(row.sectionNumber), axis=1)\n",
    "df[\"time\"] = df.epochTime.apply(lambda cur_epoch: \n",
    "                                (int(cur_epoch) - int(start_epoch)) / SECONDS_PER_DAY)\n",
    "\n",
    "df[\"waitlistPer\"] = df.apply(lambda row: row.actualWaitlist / row.enrollmentCapacity, axis=1)\n",
    "df[\"enrollmentPer\"] = df.apply(lambda row: row.actualEnrolment / row.enrollmentCapacity, axis=1)"
   ]
  },
  {
   "cell_type": "code",
   "execution_count": 47,
   "metadata": {
    "collapsed": false,
    "scrolled": true
   },
   "outputs": [],
   "source": [
    "# Filter by waitlist demands \n",
    "\n",
    "WAITLIST_DEMAND_THRESHOLD = 0.05 \n",
    "filtered = df.groupby([\"id\"])[\"waitlistPer\"].mean()\n",
    "filtered = filtered[filtered >= WAITLIST_DEMAND_THRESHOLD].to_dict()\n",
    "\n",
    "def filterByWaitlist(row):\n",
    "    if row.id in filtered:\n",
    "        return filtered[row.id]\n",
    "    else:\n",
    "        return -1\n",
    "\n",
    "df[\"waitlist_mean\"] = df.apply(filterByWaitlist, axis=1)\n",
    "df = df.loc[\n",
    "    (df[\"waitlist_mean\"] != -1)\n",
    "]\n"
   ]
  },
  {
   "cell_type": "code",
   "execution_count": 5,
   "metadata": {
    "collapsed": false,
    "scrolled": false
   },
   "outputs": [
    {
     "ename": "NameError",
     "evalue": "name 'df' is not defined",
     "output_type": "error",
     "traceback": [
      "\u001b[0;31m---------------------------------------------------------------------------\u001b[0m",
      "\u001b[0;31mNameError\u001b[0m                                 Traceback (most recent call last)",
      "\u001b[0;32m<ipython-input-5-1710acdcb2fc>\u001b[0m in \u001b[0;36m<module>\u001b[0;34m()\u001b[0m\n\u001b[1;32m     45\u001b[0m \u001b[0;34m\u001b[0m\u001b[0m\n\u001b[1;32m     46\u001b[0m \u001b[0;34m\u001b[0m\u001b[0m\n\u001b[0;32m---> 47\u001b[0;31m \u001b[0mcourseID\u001b[0m \u001b[0;34m=\u001b[0m \u001b[0mdf\u001b[0m\u001b[0;34m[\u001b[0m\u001b[0;34m\"id\"\u001b[0m\u001b[0;34m]\u001b[0m\u001b[0;34m.\u001b[0m\u001b[0munique\u001b[0m\u001b[0;34m(\u001b[0m\u001b[0;34m)\u001b[0m\u001b[0;34m\u001b[0m\u001b[0m\n\u001b[0m\u001b[1;32m     48\u001b[0m \u001b[0;34m\u001b[0m\u001b[0m\n\u001b[1;32m     49\u001b[0m \u001b[0;32mfor\u001b[0m \u001b[0mrank\u001b[0m\u001b[0;34m,\u001b[0m \u001b[0mcourse_id\u001b[0m \u001b[0;32min\u001b[0m \u001b[0menumerate\u001b[0m\u001b[0;34m(\u001b[0m\u001b[0mcourseID\u001b[0m\u001b[0;34m)\u001b[0m\u001b[0;34m:\u001b[0m\u001b[0;34m\u001b[0m\u001b[0m\n",
      "\u001b[0;31mNameError\u001b[0m: name 'df' is not defined"
     ]
    },
    {
     "data": {
      "image/png": "[encoded data removed]",
      "text/plain": [
       "<matplotlib.figure.Figure at 0x1059d3dd8>"
      ]
     },
     "metadata": {},
     "output_type": "display_data"
    }
   ],
   "source": [
    "\n",
    "%matplotlib inline\n",
    "\n",
    "# [tutorial](http://spartanideas.msu.edu/2014/06/28/how-to-make-beautiful-data-visualizations-in-python-with-matplotlib/)\n",
    "\n",
    "# These are the \"Tableau 20\" colors as RGB.    \n",
    "tableau20 = [(31, 119, 180), (174, 199, 232), (255, 127, 14), (255, 187, 120),    \n",
    "             (44, 160, 44), (152, 223, 138), (214, 39, 40), (255, 152, 150),    \n",
    "             (148, 103, 189), (197, 176, 213), (140, 86, 75), (196, 156, 148),    \n",
    "             (227, 119, 194), (247, 182, 210), (127, 127, 127), (199, 199, 199),    \n",
    "             (188, 189, 34), (219, 219, 141), (23, 190, 207), (158, 218, 229)]    \n",
    "  \n",
    "# Scale the RGB values to the [0, 1] range, which is the format matplotlib accepts.    \n",
    "for i in range(len(tableau20)):    \n",
    "    r, g, b = tableau20[i]\n",
    "    tableau20[i] = (r / 255., g / 255., b / 255.)   \n",
    "\n",
    "# plot resize\n",
    "fig = plt.figure(figsize=FIG_SIZE)\n",
    "fig.suptitle(\n",
    "    \"Normalized Waitlist by {} {}\".format(\n",
    "        \", \".join(COURSE_CODES),\n",
    "        \", \".join(\"~\" + c for c in NOT_COURSE_CODES)\n",
    "    ), \n",
    "    fontsize=14, \n",
    "    fontweight='bold'\n",
    ")\n",
    "\n",
    "\n",
    "# Set axis labels\n",
    "ax = plt.subplot(111)    \n",
    "ax.set_title(\"(2016-12-23 ~ {})\".format(CUTOFF_DATE))\n",
    "ax.set_ylabel(\"Waitlist Scaled by Enrollment Capacity (%)\")\n",
    "ax.set_xlabel(\"Days Since Start Date (day)\")\n",
    "\n",
    "# Remove the plot frame lines.  \n",
    "ax.spines[\"top\"].set_visible(False)    \n",
    "ax.spines[\"bottom\"].set_visible(False)    \n",
    "ax.spines[\"right\"].set_visible(False)    \n",
    "ax.spines[\"left\"].set_visible(False) \n",
    "\n",
    "# axis ticks \n",
    "ax.get_xaxis().tick_bottom()    \n",
    "ax.get_yaxis().tick_left()\n",
    "\n",
    "\n",
    "courseID = df[\"id\"].unique()\n",
    "\n",
    "for rank, course_id in enumerate(courseID):\n",
    "    color = tableau20[rank % 20]\n",
    "    \n",
    "    dfByCourse = df.loc[\n",
    "        (df.id == course_id)\n",
    "    ]\n",
    "    \n",
    "    num_sample_pts = dfByCourse[\"id\"].size\n",
    "    \n",
    "    plt.plot(\n",
    "        list(dfByCourse[\"time\"].values), \n",
    "        list(dfByCourse[\"enrollmentPer\" if INFO_FLAG else \"waitlistPer\"].values),\n",
    "        color=color,\n",
    "        label=course_id\n",
    "    )\n",
    "    plt.text(\n",
    "        list(dfByCourse[\"time\"].values)[rank % num_sample_pts],\n",
    "        list(dfByCourse[\"enrollmentPer\" if INFO_FLAG else \"waitlistPer\"].values)[rank % num_sample_pts] + 0.005,\n",
    "        course_id,\n",
    "        fontsize=12,\n",
    "        color=color\n",
    "            )\n",
    "    \n",
    "plt.savefig(SAVED_IMAGE, dpi=200)\n",
    "plt.clf()  # Clear the figure for the next loop\n"
   ]
  },
  {
   "cell_type": "code",
   "execution_count": null,
   "metadata": {
    "collapsed": true
   },
   "outputs": [],
   "source": []
  },
  {
   "cell_type": "code",
   "execution_count": null,
   "metadata": {
    "collapsed": true
   },
   "outputs": [],
   "source": []
  }
 ],
 "metadata": {
  "kernelspec": {
   "display_name": "Python 3",
   "language": "python",
   "name": "python3"
  },
  "language_info": {
   "codemirror_mode": {
    "name": "ipython",
    "version": 3
   },
   "file_extension": ".py",
   "mimetype": "text/x-python",
   "name": "python",
   "nbconvert_exporter": "python",
   "pygments_lexer": "ipython3",
   "version": "3.6.1"
  }
 },
 "nbformat": 4,
 "nbformat_minor": 0
}
